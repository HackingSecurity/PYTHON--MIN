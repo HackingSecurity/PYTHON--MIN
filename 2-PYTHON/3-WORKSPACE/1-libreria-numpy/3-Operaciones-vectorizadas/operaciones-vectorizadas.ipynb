{
 "cells": [
  {
   "cell_type": "markdown",
   "metadata": {},
   "source": [
    "# Operaciones vectorizadas"
   ]
  },
  {
   "cell_type": "code",
   "execution_count": 3,
   "metadata": {},
   "outputs": [
    {
     "name": "stdout",
     "output_type": "stream",
     "text": [
      "[4 4 4]\n",
      "[3 4 3]\n",
      "[1.         1.41421356 1.73205081]\n",
      "[3 2 3]\n",
      "[1 2 3 4 5 6 7 8 9]\n",
      "media  5.0\n",
      "producto  362880\n"
     ]
    }
   ],
   "source": [
    "import numpy as np\n",
    "\n",
    "#Operaciones aritméticas *,-,+,** (se puede hacer con array bidimensional igual)\n",
    "a = np.array([1,2,3],int)\n",
    "b = np.array([3,2,1],int)\n",
    "\n",
    "print(a + b)\n",
    "print(a * b)\n",
    "\n",
    "#funciones universales\n",
    "\n",
    "print(np.sqrt(a))\n",
    "print(np.maximum(a,b))\n",
    "\n",
    "#Funciones de agregación\n",
    "\n",
    "#np.max , np.sum, np.meano(mediana), np.std(desviación tipica)\n",
    "datos = np.arange(1,10)\n",
    "print(datos)\n",
    "\n",
    "print(\"media \",datos.mean())\n",
    "print(\"producto \", datos.prod())\n",
    "\n"
   ]
  },
  {
   "cell_type": "code",
   "execution_count": 4,
   "metadata": {},
   "outputs": [
    {
     "name": "stdout",
     "output_type": "stream",
     "text": [
      "[[1 2 3]\n",
      " [4 5 6]\n",
      " [7 8 9]]\n",
      "45\n",
      "Eje x  [12 15 18]\n",
      "Eje Y [ 6 15 24]\n"
     ]
    }
   ],
   "source": [
    "#si tenemos un matrix podemos sumar en el eje x o eje y\n",
    "datos = np.arange(1,10)\n",
    "datos = datos.reshape(3,3)\n",
    "print(datos)\n",
    "\n",
    "print(datos.sum())\n",
    "\n",
    "print(\"Eje x \",datos.sum(axis = 0))\n",
    "print(\"Eje Y\", datos.sum(axis = 1))"
   ]
  },
  {
   "cell_type": "code",
   "execution_count": 5,
   "metadata": {},
   "outputs": [
    {
     "name": "stdout",
     "output_type": "stream",
     "text": [
      "[1 2 3 4 5]\n",
      "[ 5  6  7  8  9 10]\n"
     ]
    },
    {
     "ename": "ValueError",
     "evalue": "operands could not be broadcast together with shapes (5,) (6,) ",
     "output_type": "error",
     "traceback": [
      "\u001b[0;31m---------------------------------------------------------------------------\u001b[0m",
      "\u001b[0;31mValueError\u001b[0m                                Traceback (most recent call last)",
      "Cell \u001b[0;32mIn [5], line 8\u001b[0m\n\u001b[1;32m      5\u001b[0m y \u001b[39m=\u001b[39m np\u001b[39m.\u001b[39marange(\u001b[39m5\u001b[39m,\u001b[39m11\u001b[39m)\n\u001b[1;32m      6\u001b[0m \u001b[39mprint\u001b[39m(y)\n\u001b[0;32m----> 8\u001b[0m np\u001b[39m.\u001b[39mall(x \u001b[39m<\u001b[39;49m y)\n\u001b[1;32m      9\u001b[0m np\u001b[39m.\u001b[39many( x \u001b[39m<\u001b[39m y)\n",
      "\u001b[0;31mValueError\u001b[0m: operands could not be broadcast together with shapes (5,) (6,) "
     ]
    }
   ],
   "source": [
    "#Operaciones con tipo bool\n",
    "\n",
    "x = np.arange(1,6)\n",
    "print(x)\n",
    "y = np.arange(5,11)\n",
    "print(y)\n",
    "\n",
    "np.all(x < y)\n",
    "np.any( x < y)"
   ]
  },
  {
   "cell_type": "code",
   "execution_count": 8,
   "metadata": {},
   "outputs": [
    {
     "name": "stdout",
     "output_type": "stream",
     "text": [
      "[1 2 4 5 6 7]\n",
      "[False False False False False  True  True]\n",
      "[ 1  2  4  5  6  7  8  9 10 11]\n",
      "[7]\n",
      "[1 2 4 5 6]\n"
     ]
    }
   ],
   "source": [
    "#Operaciones de cojuntos\n",
    "\n",
    "a = np.array([1,2,4,5,6,7,7])\n",
    "b = np.array([7,8,9,10,11,11])\n",
    "\n",
    "#array unico\n",
    "c = np.unique(a)\n",
    "print(c)\n",
    "#Comprobar si los elementos de un array estan en el otro\n",
    "print(np.in1d(a ,b))\n",
    "#Crea un nuevo elemento union \n",
    "union = np.union1d(a,b)\n",
    "print(union)\n",
    "#crea un nuevo elemento intersección\n",
    "inter = np.intersect1d(a,b)\n",
    "print(inter)\n",
    "#crea un nuevo elemento diferencia\n",
    "diff = np.setdiff1d(a,b)\n",
    "print(diff)\n",
    "\n"
   ]
  },
  {
   "cell_type": "code",
   "execution_count": null,
   "metadata": {},
   "outputs": [
    {
     "name": "stdout",
     "output_type": "stream",
     "text": [
      "[ 1  7  5  6  6  5  4 -1 -2]\n"
     ]
    },
    {
     "data": {
      "text/plain": [
       "array([-2, -1,  1,  4,  5,  5,  6,  6,  7])"
      ]
     },
     "execution_count": 22,
     "metadata": {},
     "output_type": "execute_result"
    }
   ],
   "source": [
    "# Orden\n",
    "array = np.array([1,7,5,6,6,5,4,-1,-2])\n",
    "print(array)\n",
    "#orden elementos\n",
    "np.sort(array)"
   ]
  }
 ],
 "metadata": {
  "kernelspec": {
   "display_name": "Python 3.9.2 64-bit",
   "language": "python",
   "name": "python3"
  },
  "language_info": {
   "codemirror_mode": {
    "name": "ipython",
    "version": 3
   },
   "file_extension": ".py",
   "mimetype": "text/x-python",
   "name": "python",
   "nbconvert_exporter": "python",
   "pygments_lexer": "ipython3",
   "version": "3.9.2"
  },
  "orig_nbformat": 4,
  "vscode": {
   "interpreter": {
    "hash": "916dbcbb3f70747c44a77c7bcd40155683ae19c65e1c03b4aa3499c5328201f1"
   }
  }
 },
 "nbformat": 4,
 "nbformat_minor": 2
}
