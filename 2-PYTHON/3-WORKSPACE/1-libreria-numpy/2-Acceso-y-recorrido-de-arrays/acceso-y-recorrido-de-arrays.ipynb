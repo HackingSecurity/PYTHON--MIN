{
 "cells": [
  {
   "cell_type": "code",
   "execution_count": 1,
   "metadata": {},
   "outputs": [],
   "source": [
    "#Importa libreria\n",
    "\n",
    "import numpy as np"
   ]
  },
  {
   "cell_type": "markdown",
   "metadata": {},
   "source": [
    "# Array de una dimensión"
   ]
  },
  {
   "cell_type": "code",
   "execution_count": 14,
   "metadata": {},
   "outputs": [
    {
     "name": "stdout",
     "output_type": "stream",
     "text": [
      "[ 0  1  2  3  4  5  6  7  8  9 10 11]\n",
      "0 11\n",
      "[2 3 4 5]\n",
      "[ 9 10 11]\n",
      "[11 10  9  8  7  6  5  4  3  2  1  0]\n",
      "[11  9  7  5  3  1]\n"
     ]
    }
   ],
   "source": [
    "\n",
    "array = np.arange(0,12)\n",
    "print(array)\n",
    "\n",
    "#seleccionar el primero y el ultimo\n",
    "print(array[0],array[-1])\n",
    "\n",
    "#seleccionar el elemento 2 al 5\n",
    "print(array[2:6])\n",
    "\n",
    "#los tres ultimos elemento\n",
    "print(array[-3:])\n",
    "\n",
    "#orden inverso\n",
    "print(array[::-1])\n",
    "#orden inverso con incremento de 2\n",
    "print(array[::-2])"
   ]
  },
  {
   "cell_type": "markdown",
   "metadata": {},
   "source": [
    "# Array multidimensionales"
   ]
  },
  {
   "cell_type": "code",
   "execution_count": 22,
   "metadata": {},
   "outputs": [
    {
     "name": "stdout",
     "output_type": "stream",
     "text": [
      "[[1 2 3]\n",
      " [4 5 6]\n",
      " [7 8 9]]\n",
      "Segunda fila [4 5 6]\n",
      "Segunda columna [2 5 8]\n",
      "[7 8 9]\n"
     ]
    }
   ],
   "source": [
    "array = np.array([[1,2,3],[4,5,6],[7,8,9]], dtype='int')\n",
    "print(array)\n",
    "\n",
    "#selecciónar la segunda fila\n",
    "print(\"Segunda fila\",array[1,:])\n",
    "#seleccionar la segunda columna\n",
    "print(\"Segunda columna\",array[:,1])\n",
    "\n",
    "#copiar un array en otro\n",
    "array_copia = array[2,:]\n",
    "print(array_copia)\n"
   ]
  },
  {
   "cell_type": "code",
   "execution_count": 24,
   "metadata": {},
   "outputs": [
    {
     "name": "stdout",
     "output_type": "stream",
     "text": [
      "[ 0  1  2  3  4  5  6  7  8  9 10 11]\n",
      "[False False False False False False False False  True  True  True  True]\n"
     ]
    }
   ],
   "source": [
    "#filtrado\n",
    "b = np.arange(12)\n",
    "print(b)\n",
    "\n",
    "print(b > 7)"
   ]
  },
  {
   "cell_type": "code",
   "execution_count": 36,
   "metadata": {},
   "outputs": [
    {
     "name": "stdout",
     "output_type": "stream",
     "text": [
      "[[2 4 6]\n",
      " [1 2 3]]\n",
      "[2 4 6 1 2 3]\n",
      "[[2 4]\n",
      " [6 1]\n",
      " [2 3]]\n",
      "[2 4 6 1 2 3]\n",
      "[2 4 6 1 2 3]\n"
     ]
    }
   ],
   "source": [
    "#manipular la forma de un array\n",
    "\n",
    "#con reshape y ravel se crean vistas\n",
    "#Cambiar dimensiones una array\n",
    "array = np.array([[2,4,6],[1,2,3]], dtype='int')\n",
    "print(array)\n",
    "\n",
    "print(array.reshape(6))\n",
    "print(array.reshape(3,2))\n",
    "\n",
    "#cambiar dimensiones una array a una dimensión\n",
    "print(array.ravel())\n",
    "\n",
    "\n",
    "#crear una copia con flatten\n",
    "datos = array.flatten()\n",
    "print(datos)"
   ]
  },
  {
   "cell_type": "code",
   "execution_count": 49,
   "metadata": {},
   "outputs": [
    {
     "name": "stdout",
     "output_type": "stream",
     "text": [
      "[[5 3 7 5]\n",
      " [6 3 3 2]]\n",
      "[[0 1]\n",
      " [1 0]]\n",
      "[[84 52]\n",
      " [39 44]]\n",
      "[[5 3 7 5 0 1]\n",
      " [6 3 3 2 1 0]]\n",
      "[[ 0  1]\n",
      " [ 1  0]\n",
      " [84 52]\n",
      " [39 44]]\n"
     ]
    }
   ],
   "source": [
    "#Construir un array apartir de otros arrays existentes\n",
    "\n",
    "a = np.random.randint(0,9,(2,4))\n",
    "print(a)\n",
    "b = np.random.randint(0,2,(2,2))\n",
    "print(b)\n",
    "c = np.random.randint(1,100,(2,2))\n",
    "print(c)\n",
    "\n",
    "#vstack -> concatena verticalmente\n",
    "#hstack -> concatena horizontalmente\n",
    "\n",
    "print(np.hstack((a,b)))\n",
    "print(np.vstack((b,c)))\n",
    "\n",
    "\n"
   ]
  },
  {
   "cell_type": "code",
   "execution_count": null,
   "metadata": {},
   "outputs": [],
   "source": [
    "#podemos usar np.insert , np.append y np.delete\n",
    "#devuelve una copia del array origin\n",
    "\n"
   ]
  }
 ],
 "metadata": {
  "kernelspec": {
   "display_name": "Python 3.9.2 64-bit",
   "language": "python",
   "name": "python3"
  },
  "language_info": {
   "codemirror_mode": {
    "name": "ipython",
    "version": 3
   },
   "file_extension": ".py",
   "mimetype": "text/x-python",
   "name": "python",
   "nbconvert_exporter": "python",
   "pygments_lexer": "ipython3",
   "version": "3.9.2"
  },
  "orig_nbformat": 4,
  "vscode": {
   "interpreter": {
    "hash": "916dbcbb3f70747c44a77c7bcd40155683ae19c65e1c03b4aa3499c5328201f1"
   }
  }
 },
 "nbformat": 4,
 "nbformat_minor": 2
}
