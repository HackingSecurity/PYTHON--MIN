{
 "cells": [
  {
   "cell_type": "markdown",
   "metadata": {},
   "source": [
    "# Acceso y actualización de los datos"
   ]
  },
  {
   "cell_type": "code",
   "execution_count": 284,
   "metadata": {},
   "outputs": [],
   "source": [
    "#Librerias\n",
    "import numpy as np\n",
    "import pandas as pd\n",
    "import matplotlib.pyplot as plt\n",
    "%matplotlib inline"
   ]
  },
  {
   "cell_type": "code",
   "execution_count": 285,
   "metadata": {},
   "outputs": [
    {
     "name": "stdout",
     "output_type": "stream",
     "text": [
      "<class 'pandas.core.frame.DataFrame'>\n",
      "Index: 5 entries, EE to FR\n",
      "Data columns (total 5 columns):\n",
      " #   Column  Non-Null Count  Dtype  \n",
      "---  ------  --------------  -----  \n",
      " 0   Desc    5 non-null      object \n",
      " 1   2004    5 non-null      float64\n",
      " 2   2005    5 non-null      float64\n",
      " 3   2006    5 non-null      float64\n",
      " 4   Tipo    5 non-null      object \n",
      "dtypes: float64(3), object(2)\n",
      "memory usage: 240.0+ bytes\n",
      "None\n",
      "       Desc    2004    2005    2006 Tipo\n",
      "EE  Estonia    8.40    7.70    6.70    A\n",
      "IE  Ireland  193.50  227.76  221.05    B\n",
      "EL   Greece    1.40    1.60    1.50    A\n",
      "ES    Spain   50.52   58.90   46.72    C\n",
      "FR   France  415.09  423.10  400.52    A\n"
     ]
    }
   ],
   "source": [
    "#acceso a los datos\n",
    "tabla3=pd.DataFrame(\n",
    "        data=[('Estonia',8.4,7.7,6.7,'A'),\n",
    "        ('Ireland',193.5,227.76,221.05,'B'),\n",
    "        ('Greece',1.4,1.6,1.5,'A'),\n",
    "        ('Spain',50.52,58.9,46.72,'C'),\n",
    "        ('France',415.09,423.1,400.52,'A')],\n",
    "        columns=['Desc','2004','2005','2006','Tipo'],\n",
    "        index=['EE','IE','EL','ES','FR'])\n",
    "print(tabla3.info())\n",
    "print(tabla3)\n",
    "\n"
   ]
  },
  {
   "cell_type": "code",
   "execution_count": 286,
   "metadata": {},
   "outputs": [
    {
     "name": "stdout",
     "output_type": "stream",
     "text": [
      "EE    Estonia\n",
      "IE    Ireland\n",
      "EL     Greece\n",
      "ES      Spain\n",
      "FR     France\n",
      "Name: Desc, dtype: object\n",
      "EE      8.40\n",
      "IE    193.50\n",
      "EL      1.40\n",
      "ES     50.52\n",
      "FR    415.09\n",
      "Name: 2004, dtype: float64\n"
     ]
    }
   ],
   "source": [
    "#Acceso a los datos\n",
    "\n",
    "print(tabla3.Desc)\n",
    "print(tabla3['2004'])"
   ]
  },
  {
   "cell_type": "code",
   "execution_count": 287,
   "metadata": {},
   "outputs": [
    {
     "name": "stdout",
     "output_type": "stream",
     "text": [
      "       Desc   2004    2005    2006 Tipo\n",
      "EE  Estonia    8.4    7.70    6.70    A\n",
      "IE  Ireland  193.5  227.76  221.05    B\n",
      "      2004    2005\n",
      "IE  193.50  227.76\n",
      "EL    1.40    1.60\n",
      "ES   50.52   58.90\n",
      "      2004    2006\n",
      "IE  193.50  221.05\n",
      "ES   50.52   46.72\n"
     ]
    }
   ],
   "source": [
    "#acceder a un conjunto de filas y columnas\n",
    "#loc\n",
    "\n",
    "print(tabla3.loc['EE':'IE'])\n",
    "#un rango \":\" que va seguido \n",
    "print(tabla3.loc['IE':'ES',['2004','2005']])\n",
    "#una fila específica\n",
    "print(tabla3.loc[['IE','ES'],['2004','2006']])\n"
   ]
  },
  {
   "cell_type": "code",
   "execution_count": 288,
   "metadata": {},
   "outputs": [
    {
     "data": {
      "text/plain": [
       "221.05"
      ]
     },
     "execution_count": 288,
     "metadata": {},
     "output_type": "execute_result"
    }
   ],
   "source": [
    "#Coger un valor escalar\n",
    "tabla3.loc['IE','2006']"
   ]
  },
  {
   "cell_type": "code",
   "execution_count": 289,
   "metadata": {},
   "outputs": [
    {
     "name": "stdout",
     "output_type": "stream",
     "text": [
      "       Desc  2004  2005  2006 Tipo\n",
      "EE  Estonia   8.4   7.7   6.7    A\n",
      "       Desc   2004    2005    2006 Tipo\n",
      "EE  Estonia    8.4    7.70    6.70    A\n",
      "IE  Ireland  193.5  227.76  221.05    B\n",
      "EL   Greece    1.4    1.60    1.50    A\n",
      "      Desc    2004   2005    2006 Tipo\n",
      "FR  France  415.09  423.1  400.52    A\n"
     ]
    }
   ],
   "source": [
    "#indexar filas y columnas con valores de tipo int\n",
    "\n",
    "#recuperar la primer fila\n",
    "print(tabla3.iloc[:1])\n",
    "\n",
    "#recuperar las 3 primeras filas y recuperar la ultima fila\n",
    "print(tabla3.iloc[:3])\n",
    "print(tabla3.iloc[-1:])\n"
   ]
  },
  {
   "cell_type": "code",
   "execution_count": 290,
   "metadata": {},
   "outputs": [
    {
     "data": {
      "text/html": [
       "<div>\n",
       "<style scoped>\n",
       "    .dataframe tbody tr th:only-of-type {\n",
       "        vertical-align: middle;\n",
       "    }\n",
       "\n",
       "    .dataframe tbody tr th {\n",
       "        vertical-align: top;\n",
       "    }\n",
       "\n",
       "    .dataframe thead th {\n",
       "        text-align: right;\n",
       "    }\n",
       "</style>\n",
       "<table border=\"1\" class=\"dataframe\">\n",
       "  <thead>\n",
       "    <tr style=\"text-align: right;\">\n",
       "      <th></th>\n",
       "      <th>Desc</th>\n",
       "      <th>2004</th>\n",
       "      <th>Tipo</th>\n",
       "    </tr>\n",
       "  </thead>\n",
       "  <tbody>\n",
       "    <tr>\n",
       "      <th>EE</th>\n",
       "      <td>Estonia</td>\n",
       "      <td>8.4</td>\n",
       "      <td>A</td>\n",
       "    </tr>\n",
       "  </tbody>\n",
       "</table>\n",
       "</div>"
      ],
      "text/plain": [
       "       Desc  2004 Tipo\n",
       "EE  Estonia   8.4    A"
      ]
     },
     "execution_count": 290,
     "metadata": {},
     "output_type": "execute_result"
    }
   ],
   "source": [
    "#sacar la fila 1 y las columnas 0,1 y la ultima\n",
    "tabla3.iloc[:1,[0,1,-1]]"
   ]
  },
  {
   "cell_type": "code",
   "execution_count": 291,
   "metadata": {},
   "outputs": [
    {
     "name": "stdout",
     "output_type": "stream",
     "text": [
      "       Desc    2004    2005    2006 Tipo\n",
      "EE  Estonia    8.40    7.70    6.70    D\n",
      "IE  Ireland  193.50  227.76  221.05    D\n",
      "EL   Greece    1.40    1.60    1.50    D\n",
      "ES    Spain   50.52   58.90   46.72    D\n",
      "FR   France  415.09  423.10  400.52    D\n",
      "       Desc    2004    2005    2006 Tipo\n",
      "EE  Estonia    8.40    7.70    6.70    A\n",
      "IE  Ireland  193.50  227.76  221.05    B\n",
      "EL   Greece    1.40    1.60    1.50    C\n",
      "ES    Spain   50.52   58.90   46.72    D\n",
      "FR   France  415.09  423.10  400.52    E\n"
     ]
    }
   ],
   "source": [
    "#actualizaciono de datos de un dataframe\n",
    "tabla2 = tabla3\n",
    "tabla2.Tipo = 'D'\n",
    "print(tabla2)\n",
    "tabla2.Tipo = ['A','B','C','D','E']\n",
    "print(tabla2)"
   ]
  },
  {
   "cell_type": "code",
   "execution_count": 292,
   "metadata": {},
   "outputs": [
    {
     "name": "stdout",
     "output_type": "stream",
     "text": [
      "       Desc    2004    2005    2006 Tipo\n",
      "EE  ESTONIA    8.40    7.70    6.70    A\n",
      "IE  IRELAND  193.50  227.76  221.05    B\n",
      "EL   GREECE    1.40    1.60    1.50    C\n",
      "ES    SPAIN   50.52   58.90   46.72    D\n",
      "FR   FRANCE  415.09  423.10  400.52    E\n"
     ]
    }
   ],
   "source": [
    "#tranformar valores de una tabla\n",
    "\n",
    "#la funcion map aplica la función a cada uno de los valores de la columna\n",
    "\n",
    "tabla2.Desc = tabla2.Desc.map(lambda x : str.upper(x))\n",
    "print(tabla2)"
   ]
  },
  {
   "cell_type": "code",
   "execution_count": 293,
   "metadata": {},
   "outputs": [
    {
     "name": "stdout",
     "output_type": "stream",
     "text": [
      "       Desc   2004   2005   2006 Tipo\n",
      "EE  ESTONIA    8.4    7.7    6.7    A\n",
      "IE  IRELAND  193.5  227.8  221.1    B\n",
      "EL   GREECE    1.4    1.6    1.5    C\n",
      "ES    SPAIN   50.5   58.9   46.7    D\n",
      "FR   FRANCE  415.1  423.1  400.5    E\n"
     ]
    }
   ],
   "source": [
    "# modificar todos los tipo númerico del dataframe para que se expresen con un decimal\n",
    "\n",
    "tabla2 = tabla2.applymap( lambda x : round(x,1) if type(x) == float else x)\n",
    "print(tabla2)"
   ]
  },
  {
   "cell_type": "code",
   "execution_count": 294,
   "metadata": {},
   "outputs": [
    {
     "name": "stdout",
     "output_type": "stream",
     "text": [
      "       Desc    2004    2005    2006 Tipo\n",
      "EE  ESTONIA    8.40    7.70    6.70    A\n",
      "IE  IRELAND  193.50  227.76  221.05    B\n",
      "EL   GREECE    1.40    1.60    1.50    C\n",
      "ES    SPAIN   50.52   58.90   46.72    D\n",
      "FR   FRANCE  415.09  423.10  400.52    E\n",
      "EE    A\n",
      "IE    B\n",
      "EL    C\n",
      "ES    D\n",
      "FR    E\n",
      "Name: Tipo, dtype: object\n",
      "       Desc    2004    2005    2006\n",
      "EE  ESTONIA    8.40    7.70    6.70\n",
      "IE  IRELAND  193.50  227.76  221.05\n",
      "EL   GREECE    1.40    1.60    1.50\n",
      "ES    SPAIN   50.52   58.90   46.72\n",
      "FR   FRANCE  415.09  423.10  400.52\n"
     ]
    },
    {
     "data": {
      "text/plain": [
       "pandas.core.series.Series"
      ]
     },
     "execution_count": 294,
     "metadata": {},
     "output_type": "execute_result"
    }
   ],
   "source": [
    "#eliminar columnas en un dataframe\n",
    "\n",
    "#pop elimina la columna especificada\n",
    "print(tabla3)\n",
    "columna = tabla3.pop('Tipo')\n",
    "print(columna)\n",
    "print(tabla3)\n",
    "type(columna)"
   ]
  },
  {
   "cell_type": "code",
   "execution_count": 295,
   "metadata": {},
   "outputs": [
    {
     "name": "stdout",
     "output_type": "stream",
     "text": [
      "Index(['EE', 'IE', 'EL', 'ES', 'FR'], dtype='object')\n",
      "Index(['Desc', '2004', '2005', '2006'], dtype='object')\n",
      "       Desc    2004    2005    2006\n",
      "EE  ESTONIA    8.40    7.70    6.70\n",
      "IE  IRELAND  193.50  227.76  221.05\n",
      "EL   GREECE    1.40    1.60    1.50\n",
      "ES    SPAIN   50.52   58.90   46.72\n",
      "FR   FRANCE  415.09  423.10  400.52\n",
      "      Desc    2004   2005    2006\n",
      "EL  GREECE    1.40    1.6    1.50\n",
      "ES   SPAIN   50.52   58.9   46.72\n",
      "FR  FRANCE  415.09  423.1  400.52\n",
      "      2005    2006\n",
      "EE    7.70    6.70\n",
      "IE  227.76  221.05\n",
      "EL    1.60    1.50\n",
      "ES   58.90   46.72\n",
      "FR  423.10  400.52\n"
     ]
    }
   ],
   "source": [
    "print(tabla3.index)\n",
    "print(tabla3.columns)\n",
    "print(tabla3)\n",
    "# axis = 0 es el indice\n",
    "n1 = tabla3.drop(['EE','IE'], axis = 0)\n",
    "print(n1)\n",
    "# axis = 1 son las cabeceras de las columnas\n",
    "n2 = tabla3.drop(['Desc','2004'], axis = 1)\n",
    "print(n2)\n"
   ]
  },
  {
   "cell_type": "code",
   "execution_count": 296,
   "metadata": {},
   "outputs": [
    {
     "name": "stdout",
     "output_type": "stream",
     "text": [
      "       Desc    2004    2005    2006 UNIDAD\n",
      "EE  ESTONIA    8.40    7.70    6.70    Nan\n",
      "IE  IRELAND  193.50  227.76  221.05    Nan\n",
      "EL   GREECE    1.40    1.60    1.50    Nan\n",
      "ES    SPAIN   50.52   58.90   46.72    Nan\n",
      "FR   FRANCE  415.09  423.10  400.52    Nan\n",
      "       Desc    2004    2005    2006 UNIDAD    Total\n",
      "EE  ESTONIA    8.40    7.70    6.70    Nan    22.80\n",
      "IE  IRELAND  193.50  227.76  221.05    Nan   642.31\n",
      "EL   GREECE    1.40    1.60    1.50    Nan     4.50\n",
      "ES    SPAIN   50.52   58.90   46.72    Nan   156.14\n",
      "FR   FRANCE  415.09  423.10  400.52    Nan  1238.71\n"
     ]
    }
   ],
   "source": [
    "# Insertar datos en un Dataframe\n",
    "\n",
    "#insertar una fila con un valor dado (pero puede ser un array de datos)\n",
    "tabla3['UNIDAD'] = 'Nan'\n",
    "print(tabla3)\n",
    "#suma de filas \n",
    "tabla3['Total'] = tabla3['2004'] + tabla3['2005'] + tabla3['2006']\n",
    "print(tabla3)"
   ]
  },
  {
   "cell_type": "code",
   "execution_count": 301,
   "metadata": {},
   "outputs": [
    {
     "name": "stdout",
     "output_type": "stream",
     "text": [
      "EE    1.0\n",
      "IE    2.0\n",
      "EL    3.0\n",
      "ES    4.0\n",
      "FR    5.0\n",
      "dtype: float64 <class 'pandas.core.series.Series'>\n",
      "       Desc    2004  lucas    2005    2006 UNIDAD    Total\n",
      "EE  ESTONIA    8.40    1.0    7.70    6.70    Nan    22.80\n",
      "IE  IRELAND  193.50    2.0  227.76  221.05    Nan   642.31\n",
      "EL   GREECE    1.40    3.0    1.60    1.50    Nan     4.50\n",
      "ES    SPAIN   50.52    4.0   58.90   46.72    Nan   156.14\n",
      "FR   FRANCE  415.09    5.0  423.10  400.52    Nan  1238.71\n"
     ]
    }
   ],
   "source": [
    "#insertar datos en un fila concreta\n",
    "\n",
    "#Al añadir una serie a un dataframe, debe tener el mismo indeces si es una columna \n",
    "serie = pd.Series([1,2,3,4,5], index=['EE','IE','EL','ES','FR'], dtype=float)\n",
    "print(serie,type(serie))\n",
    "#tabla3.insert(2,'lucas',serie)\n",
    "print(tabla3)"
   ]
  }
 ],
 "metadata": {
  "kernelspec": {
   "display_name": "Python 3.9.2 64-bit",
   "language": "python",
   "name": "python3"
  },
  "language_info": {
   "codemirror_mode": {
    "name": "ipython",
    "version": 3
   },
   "file_extension": ".py",
   "mimetype": "text/x-python",
   "name": "python",
   "nbconvert_exporter": "python",
   "pygments_lexer": "ipython3",
   "version": "3.9.2"
  },
  "orig_nbformat": 4,
  "vscode": {
   "interpreter": {
    "hash": "916dbcbb3f70747c44a77c7bcd40155683ae19c65e1c03b4aa3499c5328201f1"
   }
  }
 },
 "nbformat": 4,
 "nbformat_minor": 2
}
