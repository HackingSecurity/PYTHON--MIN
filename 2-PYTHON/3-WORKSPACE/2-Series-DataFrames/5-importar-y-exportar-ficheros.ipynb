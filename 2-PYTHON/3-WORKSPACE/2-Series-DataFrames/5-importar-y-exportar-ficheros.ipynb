{
 "cells": [
  {
   "cell_type": "markdown",
   "metadata": {},
   "source": [
    "# importar y exportar ficheros\n",
    "\n",
    "tratamiento de ficheros:\n",
    "* texto\n",
    "* excel\n",
    "* binario\n",
    "* sql\n",
    "* nosql"
   ]
  },
  {
   "cell_type": "code",
   "execution_count": 4,
   "metadata": {},
   "outputs": [],
   "source": [
    "#librerias\n",
    "import numpy as np\n",
    "import pandas as pd\n"
   ]
  },
  {
   "cell_type": "code",
   "execution_count": 8,
   "metadata": {},
   "outputs": [
    {
     "name": "stdout",
     "output_type": "stream",
     "text": [
      "           Especie  Peso cuerpo  Peso cerebro\n",
      "0    Big brown bat        0.023           0.3\n",
      "1            Mouse        0.023           0.4\n",
      "2  Ground squirrel        0.101           4.0\n",
      "3       Tree shrew        0.104           2.5\n",
      "4   Golden hamster        0.120           1.0\n",
      "5             Mole        0.122           3.0\n",
      "6           Galago        0.200           5.0\n",
      "7              Rat        0.280           1.9\n",
      "           Especie  Peso cuerpo  Peso cerebro\n",
      "0    Big brown bat        0.023           0.3\n",
      "1            Mouse        0.023           0.4\n",
      "2  Ground squirrel        0.101           4.0\n",
      "3       Tree shrew        0.104           2.5\n",
      "4   Golden hamster        0.120           1.0\n",
      "5             Mole        0.122           3.0\n",
      "6           Galago        0.200           5.0\n",
      "7              Rat        0.280           1.9\n"
     ]
    }
   ],
   "source": [
    "# ficheros csv\n",
    "#pd.read_csv y pd.read_table lectura de datos\n",
    "#escritura de datos contenidos en un dataframe to_csv\n",
    "\n",
    "dfcsv = pd.read_csv('./animales.csv', delimiter=',')\n",
    "print(dfcsv)\n",
    "tbcsv = pd.read_table('./animales.csv', delimiter=',')\n",
    "print(tbcsv)"
   ]
  },
  {
   "cell_type": "code",
   "execution_count": 9,
   "metadata": {},
   "outputs": [
    {
     "name": "stdout",
     "output_type": "stream",
     "text": [
      "                 0            1             2\n",
      "0          Especie  Peso cuerpo  Peso cerebro\n",
      "1    Big brown bat        0.023           0.3\n",
      "2            Mouse        0.023           0.4\n",
      "3  Ground squirrel        0.101             4\n",
      "4       Tree shrew        0.104           2.5\n",
      "5   Golden hamster         0.12             1\n",
      "6             Mole        0.122             3\n",
      "7           Galago          0.2             5\n",
      "8              Rat         0.28           1.9\n"
     ]
    }
   ],
   "source": [
    "csv = pd.read_csv('./animales.csv', delimiter=',', header=None)\n",
    "print(csv)"
   ]
  },
  {
   "cell_type": "code",
   "execution_count": 11,
   "metadata": {},
   "outputs": [
    {
     "name": "stdout",
     "output_type": "stream",
     "text": [
      "   Extreno                     Nombre        Cat\n",
      "0     1982  E.T. the ExtraTerrestrial    Fantasy\n",
      "1     1982                Poltergeist     Horror\n",
      "2     1992                      Alien     Action\n",
      "3     1992            The Crying Game        War\n",
      "4     1995                  Toy Story  Animation\n",
      "5     1995                  GoldenEye     Action\n",
      "6     1995                 Four Rooms   Thriller\n"
     ]
    }
   ],
   "source": [
    "#Usuario \n",
    "csv = pd.read_csv('./peliculas.csv', delimiter=',', skiprows=7)\n",
    "print(csv)"
   ]
  },
  {
   "cell_type": "code",
   "execution_count": null,
   "metadata": {},
   "outputs": [],
   "source": []
  },
  {
   "cell_type": "code",
   "execution_count": 13,
   "metadata": {},
   "outputs": [
    {
     "name": "stdout",
     "output_type": "stream",
     "text": [
      "   Unnamed: 0  N  o  m  b    r  e Unnamed: 7  S  u  ... Unnamed: 18    D  e.3  \\\n",
      "0         NaN  B  o  r  n    e  o        NaN  7  4  ...         3.0  NaN  NaN   \n",
      "1         NaN  M  a  d  a    g  a          s  c  a  ...         NaN  3.0  4.0   \n",
      "2         NaN  C  u  b  a  NaN  1          0  5  8  ...         NaN  NaN  NaN   \n",
      "3         NaN  T  a  i  w    a  n        NaN  3  5  ...         NaN  NaN  NaN   \n",
      "\n",
      "      n    s  i.2   d   a  d.1  Unnamed: 27  \n",
      "0  None  NaN  NaN NaN NaN  NaN          NaN  \n",
      "1     ,  1.0  NaN NaN NaN  NaN          NaN  \n",
      "2  None  NaN  NaN NaN NaN  NaN          NaN  \n",
      "3  None  NaN  NaN NaN NaN  NaN          NaN  \n",
      "\n",
      "[4 rows x 28 columns]\n"
     ]
    }
   ],
   "source": [
    "#csv usando expresiones regulares para poder separar por tabulaciones o varios espacios\n",
    "csv = pd.read_table('./islas.txt', sep='\\s*' , engine='python')\n",
    "print(csv)"
   ]
  },
  {
   "cell_type": "code",
   "execution_count": 14,
   "metadata": {},
   "outputs": [
    {
     "name": "stdout",
     "output_type": "stream",
     "text": [
      "   Extreno                     Nombre        Cat\n",
      "0     1982  E.T. the ExtraTerrestrial    Fantasy\n",
      "1     1982                Poltergeist     Horror\n",
      "2     1992                      Alien     Action\n",
      "3     1992            The Crying Game        War\n",
      "4     1995                  Toy Story  Animation\n",
      "5     1995                  GoldenEye     Action\n",
      "6     1995                 Four Rooms   Thriller\n"
     ]
    }
   ],
   "source": [
    "csv = pd.read_csv('./peliculas.csv', delimiter=',', skiprows=7)\n",
    "print(csv)\n",
    "\n",
    "#guardar un fichero "
   ]
  }
 ],
 "metadata": {
  "kernelspec": {
   "display_name": "Python 3.9.2 64-bit",
   "language": "python",
   "name": "python3"
  },
  "language_info": {
   "codemirror_mode": {
    "name": "ipython",
    "version": 3
   },
   "file_extension": ".py",
   "mimetype": "text/x-python",
   "name": "python",
   "nbconvert_exporter": "python",
   "pygments_lexer": "ipython3",
   "version": "3.8.10"
  },
  "orig_nbformat": 4,
  "vscode": {
   "interpreter": {
    "hash": "916dbcbb3f70747c44a77c7bcd40155683ae19c65e1c03b4aa3499c5328201f1"
   }
  }
 },
 "nbformat": 4,
 "nbformat_minor": 2
}
