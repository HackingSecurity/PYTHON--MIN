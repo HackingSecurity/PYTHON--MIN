{
 "cells": [
  {
   "cell_type": "markdown",
   "metadata": {},
   "source": [
    "# Introducción\n",
    "\n",
    "* Pagina de referencia http://pandas.pydata.org\n"
   ]
  },
  {
   "cell_type": "code",
   "execution_count": 2,
   "metadata": {},
   "outputs": [
    {
     "ename": "ModuleNotFoundError",
     "evalue": "No module named 'numpy'",
     "output_type": "error",
     "traceback": [
      "\u001b[0;31m---------------------------------------------------------------------------\u001b[0m",
      "\u001b[0;31mModuleNotFoundError\u001b[0m                       Traceback (most recent call last)",
      "Cell \u001b[0;32mIn[2], line 2\u001b[0m\n\u001b[1;32m      1\u001b[0m \u001b[39m#Librerias\u001b[39;00m\n\u001b[0;32m----> 2\u001b[0m \u001b[39mimport\u001b[39;00m \u001b[39mnumpy\u001b[39;00m \u001b[39mas\u001b[39;00m \u001b[39mnp\u001b[39;00m\n\u001b[1;32m      3\u001b[0m \u001b[39mimport\u001b[39;00m \u001b[39mpandas\u001b[39;00m \u001b[39mas\u001b[39;00m \u001b[39mpd\u001b[39;00m\n\u001b[1;32m      4\u001b[0m \u001b[39mimport\u001b[39;00m \u001b[39mmatplotlib\u001b[39;00m\u001b[39m.\u001b[39;00m\u001b[39mpyplot\u001b[39;00m \u001b[39mas\u001b[39;00m \u001b[39mplt\u001b[39;00m\n",
      "\u001b[0;31mModuleNotFoundError\u001b[0m: No module named 'numpy'"
     ]
    }
   ],
   "source": [
    "#Librerias\n",
    "import numpy as np\n",
    "import pandas as pd\n",
    "import matplotlib.pyplot as plt\n",
    "%matplotlib inline"
   ]
  },
  {
   "cell_type": "code",
   "execution_count": null,
   "metadata": {},
   "outputs": [
    {
     "name": "stdout",
     "output_type": "stream",
     "text": [
      "0    1.0\n",
      "1    1.5\n",
      "2    2.0\n",
      "3    2.5\n",
      "4    3.0\n",
      "5    3.5\n",
      "6    4.0\n",
      "7    4.5\n",
      "dtype: float64\n",
      "float64\n",
      "<class 'pandas.core.series.Series'>\n",
      "RangeIndex(start=0, stop=8, step=1)\n",
      "[1.  1.5 2.  2.5 3.  3.5 4.  4.5]\n"
     ]
    }
   ],
   "source": [
    "# Series\n",
    "\n",
    "s = pd.Series (np.arange(1,5,0.5))\n",
    "print(s)\n",
    "print(s.dtype)\n",
    "print(type(s))\n",
    "print(s.index)\n",
    "print(s.values)\n"
   ]
  },
  {
   "cell_type": "code",
   "execution_count": null,
   "metadata": {},
   "outputs": [
    {
     "name": "stdout",
     "output_type": "stream",
     "text": [
      "M    8.0\n",
      "A    8.5\n",
      "D    9.0\n",
      "R    9.5\n",
      "Name: Tasa de natalidad, dtype: float64\n",
      "Tasa de natalidad\n",
      "8.0\n",
      "8.0\n",
      "Index(['M', 'A', 'D', 'R'], dtype='object')\n",
      "True\n",
      "M    80.0\n",
      "A    85.0\n",
      "D    90.0\n",
      "R    95.0\n",
      "Name: Tasa de natalidad, dtype: float64\n"
     ]
    }
   ],
   "source": [
    "# Crear etiquetas para las series\n",
    "\n",
    "nat = pd.Series (np.arange(8,10,0.5),index=['M','A','D','R'], name='Tasa de natalidad')\n",
    "print(nat)\n",
    "print(nat.name)\n",
    "print(nat['M'])\n",
    "print(nat.M)\n",
    "print(nat.index)\n",
    "print('A' in nat.index)\n",
    "print(nat * 10)"
   ]
  },
  {
   "cell_type": "code",
   "execution_count": null,
   "metadata": {},
   "outputs": [
    {
     "name": "stdout",
     "output_type": "stream",
     "text": [
      "M    8.0\n",
      "A    8.5\n",
      "D    9.0\n",
      "R    9.5\n",
      "Name: Tasa de natalidad, dtype: float64\n",
      "Media :  8.75\n",
      "M    8.0\n",
      "A    8.5\n",
      "Name: Tasa de natalidad, dtype: float64\n"
     ]
    }
   ],
   "source": [
    "# Funciones definidas en numpy se puede usar en series\n",
    "print(nat)\n",
    "print(\"Media : \",np.mean(nat))\n",
    "print(nat[nat < 9])"
   ]
  },
  {
   "cell_type": "code",
   "execution_count": null,
   "metadata": {},
   "outputs": [
    {
     "name": "stdout",
     "output_type": "stream",
     "text": [
      "M    False\n",
      "A    False\n",
      "D    False\n",
      "R    False\n",
      "Name: Tasa de natalidad, dtype: bool\n",
      "M    True\n",
      "A    True\n",
      "D    True\n",
      "R    True\n",
      "Name: Tasa de natalidad, dtype: bool\n",
      "M    8.0\n",
      "A    8.5\n",
      "D    9.0\n",
      "R    9.5\n",
      "Name: Tasa de natalidad, dtype: float64\n"
     ]
    },
    {
     "data": {
      "text/plain": [
       "count    4.000000\n",
       "mean     8.750000\n",
       "std      0.645497\n",
       "min      8.000000\n",
       "25%      8.375000\n",
       "50%      8.750000\n",
       "75%      9.125000\n",
       "max      9.500000\n",
       "Name: Tasa de natalidad, dtype: float64"
      ]
     },
     "execution_count": 7,
     "metadata": {},
     "output_type": "execute_result"
    }
   ],
   "source": [
    "print(nat.isnull())\n",
    "print(nat.notnull())\n",
    "print(nat)\n",
    "nat.describe()"
   ]
  },
  {
   "cell_type": "code",
   "execution_count": null,
   "metadata": {},
   "outputs": [
    {
     "data": {
      "image/png": "[encoded data removed]",
      "text/plain": [
       "<Figure size 1100x300 with 1 Axes>"
      ]
     },
     "metadata": {},
     "output_type": "display_data"
    }
   ],
   "source": [
    "figura, ax1 =  plt.subplots(1, figsize = (11,3))\n",
    "nat.plot(ax = ax1, kind = 'bar', title = ' Diagrama X');"
   ]
  },
  {
   "cell_type": "code",
   "execution_count": null,
   "metadata": {},
   "outputs": [
    {
     "data": {
      "image/png": "[encoded data removed]",
      "text/plain": [
       "<Figure size 1100x300 with 1 Axes>"
      ]
     },
     "metadata": {},
     "output_type": "display_data"
    }
   ],
   "source": [
    "figura, ax2 =  plt.subplots(1, figsize = (11,3))\n",
    "nat.plot(ax = ax2, kind = 'pie', title = ' Diagrama X');"
   ]
  },
  {
   "cell_type": "code",
   "execution_count": null,
   "metadata": {},
   "outputs": [
    {
     "name": "stdout",
     "output_type": "stream",
     "text": [
      "c      sur\n",
      "a    norte\n",
      "g      sur\n",
      "dtype: object\n",
      "['sur' 'norte']\n",
      "sur      2\n",
      "norte    1\n",
      "dtype: int64\n"
     ]
    }
   ],
   "source": [
    "# Crear valores unicos\n",
    "pos = pd.Series(['sur','norte','sur'], index=['c','a','g'])\n",
    "print(pos)\n",
    "\n",
    "print(pos.unique())\n",
    "print(pos.value_counts())"
   ]
  }
 ],
 "metadata": {
  "kernelspec": {
   "display_name": "Python 3.9.2 64-bit",
   "language": "python",
   "name": "python3"
  },
  "language_info": {
   "codemirror_mode": {
    "name": "ipython",
    "version": 3
   },
   "file_extension": ".py",
   "mimetype": "text/x-python",
   "name": "python",
   "nbconvert_exporter": "python",
   "pygments_lexer": "ipython3",
   "version": "3.8.10"
  },
  "orig_nbformat": 4,
  "vscode": {
   "interpreter": {
    "hash": "916dbcbb3f70747c44a77c7bcd40155683ae19c65e1c03b4aa3499c5328201f1"
   }
  }
 },
 "nbformat": 4,
 "nbformat_minor": 2
}
