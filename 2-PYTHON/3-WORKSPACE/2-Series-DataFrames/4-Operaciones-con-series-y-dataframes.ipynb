{
 "cells": [
  {
   "cell_type": "markdown",
   "metadata": {},
   "source": [
    "# Operaciones con series y Dataframes   "
   ]
  },
  {
   "cell_type": "code",
   "execution_count": 2,
   "metadata": {},
   "outputs": [],
   "source": [
    "#librerias\n",
    "\n",
    "import numpy as np\n",
    "import pandas as pd"
   ]
  },
  {
   "cell_type": "code",
   "execution_count": 4,
   "metadata": {},
   "outputs": [
    {
     "name": "stdout",
     "output_type": "stream",
     "text": [
      "      Gastos  Ingresos\n",
      "2006    1000      3000\n",
      "2002    5000      1000\n",
      "2005    4200      6000\n",
      "2007    5000      5500\n",
      "      Gastos  Ingresos\n",
      "2002    1000      5000\n",
      "2006    5000      5000\n",
      "2007    2500      3000\n",
      "2008    2500      1500\n"
     ]
    }
   ],
   "source": [
    "datos_1=np.array([[1000,3000],[5000,1000],[4200,6000],[5000,5500]])\n",
    "t1=pd.DataFrame(datos_1,columns=('Gastos','Ingresos'),index=[2006,2002,2005,2007])\n",
    "print(t1)\n",
    "datos_2=np.array([[1000,5000],[5000,5000],[2500,3000],[2500,1500]])\n",
    "t2=pd.DataFrame(datos_2,columns=('Gastos','Ingresos'),index=[2002,2006,2007,2008])\n",
    "print(t2)\n"
   ]
  },
  {
   "cell_type": "code",
   "execution_count": 5,
   "metadata": {},
   "outputs": [
    {
     "data": {
      "text/html": [
       "<div>\n",
       "<style scoped>\n",
       "    .dataframe tbody tr th:only-of-type {\n",
       "        vertical-align: middle;\n",
       "    }\n",
       "\n",
       "    .dataframe tbody tr th {\n",
       "        vertical-align: top;\n",
       "    }\n",
       "\n",
       "    .dataframe thead th {\n",
       "        text-align: right;\n",
       "    }\n",
       "</style>\n",
       "<table border=\"1\" class=\"dataframe\">\n",
       "  <thead>\n",
       "    <tr style=\"text-align: right;\">\n",
       "      <th></th>\n",
       "      <th>Gastos</th>\n",
       "      <th>Ingresos</th>\n",
       "    </tr>\n",
       "  </thead>\n",
       "  <tbody>\n",
       "    <tr>\n",
       "      <th>2002</th>\n",
       "      <td>6000.0</td>\n",
       "      <td>6000.0</td>\n",
       "    </tr>\n",
       "    <tr>\n",
       "      <th>2005</th>\n",
       "      <td>4200.0</td>\n",
       "      <td>6000.0</td>\n",
       "    </tr>\n",
       "    <tr>\n",
       "      <th>2006</th>\n",
       "      <td>6000.0</td>\n",
       "      <td>8000.0</td>\n",
       "    </tr>\n",
       "    <tr>\n",
       "      <th>2007</th>\n",
       "      <td>7500.0</td>\n",
       "      <td>8500.0</td>\n",
       "    </tr>\n",
       "    <tr>\n",
       "      <th>2008</th>\n",
       "      <td>2500.0</td>\n",
       "      <td>1500.0</td>\n",
       "    </tr>\n",
       "  </tbody>\n",
       "</table>\n",
       "</div>"
      ],
      "text/plain": [
       "      Gastos  Ingresos\n",
       "2002  6000.0    6000.0\n",
       "2005  4200.0    6000.0\n",
       "2006  6000.0    8000.0\n",
       "2007  7500.0    8500.0\n",
       "2008  2500.0    1500.0"
      ]
     },
     "execution_count": 5,
     "metadata": {},
     "output_type": "execute_result"
    }
   ],
   "source": [
    "# Utilización de los métodos add, sub, div y mul\n",
    "# fill_value permite indicar el valor por defecto para aquellas etiquetas que no aparecen en él indice\n",
    "t1.add(t2, fill_value= 0)"
   ]
  },
  {
   "cell_type": "code",
   "execution_count": 12,
   "metadata": {},
   "outputs": [
    {
     "name": "stdout",
     "output_type": "stream",
     "text": [
      "      Gastos  Ingresos\n",
      "2007    5000      5500\n",
      "2006    1000      3000\n",
      "2005    4200      6000\n",
      "2002    5000      1000\n",
      "      Gastos  Ingresos\n",
      "2006    1000      3000\n",
      "2005    4200      6000\n",
      "2007    5000      5500\n",
      "2002    5000      1000\n"
     ]
    }
   ],
   "source": [
    "#ordenar el indice lexicográficamente\n",
    "\n",
    "print(t1.sort_index(ascending= False))\n",
    "\n",
    "print(t1.sort_values(by = ['Gastos','Ingresos'], ascending=[True,False]))"
   ]
  },
  {
   "cell_type": "code",
   "execution_count": 18,
   "metadata": {},
   "outputs": [
    {
     "name": "stdout",
     "output_type": "stream",
     "text": [
      "A    1.0\n",
      "B    NaN\n",
      "C    2.0\n",
      "dtype: float64\n"
     ]
    },
    {
     "data": {
      "text/plain": [
       "A    1.0\n",
       "C    2.0\n",
       "dtype: float64"
      ]
     },
     "execution_count": 18,
     "metadata": {},
     "output_type": "execute_result"
    }
   ],
   "source": [
    "# Tratamiento de los valores NaN (Not a Number)\n",
    "\n",
    "s1 = pd.Series([1,np.nan,2], index=['A','B','C'])\n",
    "print(s1)\n",
    "\n",
    "s1.dropna()\n",
    "\n",
    "\n"
   ]
  },
  {
   "cell_type": "code",
   "execution_count": 22,
   "metadata": {},
   "outputs": [
    {
     "name": "stdout",
     "output_type": "stream",
     "text": [
      "    País Código     Pob.   Año\n",
      "0    NaN     ES  46449.0   NaN\n",
      "1    NaN    NaN      NaN   NaN\n",
      "2  Japón     JP      NaN  2005\n",
      "    País Código     Pob.   Año\n",
      "0    NaN     ES  46449.0   NaN\n",
      "2  Japón     JP      NaN  2005\n"
     ]
    }
   ],
   "source": [
    "t3=pd.DataFrame(\n",
    "    data=[(np.nan,'ES',46449,np.nan),\n",
    "          (np.nan,np.nan,np.nan,np.nan),\n",
    "          ('Japón','JP',np.nan,'2005')],\n",
    "    columns=['País','Código','Pob.','Año'])\n",
    "print(t3)\n",
    "\n",
    "print(t3.dropna(how = 'all', axis = 0))"
   ]
  },
  {
   "cell_type": "code",
   "execution_count": 24,
   "metadata": {},
   "outputs": [
    {
     "data": {
      "text/html": [
       "<div>\n",
       "<style scoped>\n",
       "    .dataframe tbody tr th:only-of-type {\n",
       "        vertical-align: middle;\n",
       "    }\n",
       "\n",
       "    .dataframe tbody tr th {\n",
       "        vertical-align: top;\n",
       "    }\n",
       "\n",
       "    .dataframe thead th {\n",
       "        text-align: right;\n",
       "    }\n",
       "</style>\n",
       "<table border=\"1\" class=\"dataframe\">\n",
       "  <thead>\n",
       "    <tr style=\"text-align: right;\">\n",
       "      <th></th>\n",
       "      <th>País</th>\n",
       "      <th>Código</th>\n",
       "      <th>Pob.</th>\n",
       "      <th>Año</th>\n",
       "    </tr>\n",
       "  </thead>\n",
       "  <tbody>\n",
       "    <tr>\n",
       "      <th>0</th>\n",
       "      <td>NaN</td>\n",
       "      <td>ES</td>\n",
       "      <td>46449.0</td>\n",
       "      <td>NaN</td>\n",
       "    </tr>\n",
       "    <tr>\n",
       "      <th>2</th>\n",
       "      <td>Japón</td>\n",
       "      <td>JP</td>\n",
       "      <td>NaN</td>\n",
       "      <td>2005</td>\n",
       "    </tr>\n",
       "  </tbody>\n",
       "</table>\n",
       "</div>"
      ],
      "text/plain": [
       "    País Código     Pob.   Año\n",
       "0    NaN     ES  46449.0   NaN\n",
       "2  Japón     JP      NaN  2005"
      ]
     },
     "execution_count": 24,
     "metadata": {},
     "output_type": "execute_result"
    }
   ],
   "source": [
    "#eliminar aquellas filas que no tienen al menos 3 valores distintos de NaN\n",
    "t3.dropna(axis = 0, thresh=2)"
   ]
  },
  {
   "cell_type": "code",
   "execution_count": 26,
   "metadata": {},
   "outputs": [
    {
     "data": {
      "text/html": [
       "<div>\n",
       "<style scoped>\n",
       "    .dataframe tbody tr th:only-of-type {\n",
       "        vertical-align: middle;\n",
       "    }\n",
       "\n",
       "    .dataframe tbody tr th {\n",
       "        vertical-align: top;\n",
       "    }\n",
       "\n",
       "    .dataframe thead th {\n",
       "        text-align: right;\n",
       "    }\n",
       "</style>\n",
       "<table border=\"1\" class=\"dataframe\">\n",
       "  <thead>\n",
       "    <tr style=\"text-align: right;\">\n",
       "      <th></th>\n",
       "      <th>País</th>\n",
       "      <th>Código</th>\n",
       "      <th>Pob.</th>\n",
       "      <th>Año</th>\n",
       "    </tr>\n",
       "  </thead>\n",
       "  <tbody>\n",
       "    <tr>\n",
       "      <th>0</th>\n",
       "      <td>0</td>\n",
       "      <td>ES</td>\n",
       "      <td>46449.0</td>\n",
       "      <td>0</td>\n",
       "    </tr>\n",
       "    <tr>\n",
       "      <th>1</th>\n",
       "      <td>0</td>\n",
       "      <td>0</td>\n",
       "      <td>0.0</td>\n",
       "      <td>0</td>\n",
       "    </tr>\n",
       "    <tr>\n",
       "      <th>2</th>\n",
       "      <td>Japón</td>\n",
       "      <td>JP</td>\n",
       "      <td>0.0</td>\n",
       "      <td>2005</td>\n",
       "    </tr>\n",
       "  </tbody>\n",
       "</table>\n",
       "</div>"
      ],
      "text/plain": [
       "    País Código     Pob.   Año\n",
       "0      0     ES  46449.0     0\n",
       "1      0      0      0.0     0\n",
       "2  Japón     JP      0.0  2005"
      ]
     },
     "execution_count": 26,
     "metadata": {},
     "output_type": "execute_result"
    }
   ],
   "source": [
    "# en el caso que no queramos eliminar los valores NaN\n",
    "\n",
    "#fillna sustitute todos los valores NaN por un valore concretos\n",
    "t3.fillna(0)\n",
    "\n",
    "#Ojo para funciones estadisticas pandas no tiene en cuenta los valores NaN"
   ]
  },
  {
   "cell_type": "code",
   "execution_count": 29,
   "metadata": {},
   "outputs": [
    {
     "name": "stdout",
     "output_type": "stream",
     "text": [
      "    País Código     Pob.   Año\n",
      "0    NaN     ES  46449.0   NaN\n",
      "1    NaN    NaN      NaN   NaN\n",
      "2  Japón     JP      NaN  2005\n"
     ]
    },
    {
     "name": "stderr",
     "output_type": "stream",
     "text": [
      "/tmp/ipykernel_200267/3392342986.py:2: FutureWarning: The default value of numeric_only in DataFrame.mean is deprecated. In a future version, it will default to False. In addition, specifying 'numeric_only=None' is deprecated. Select only valid columns or specify the value of numeric_only to silence this warning.\n",
      "  t3.mean(skipna=False)\n"
     ]
    },
    {
     "data": {
      "text/plain": [
       "Pob.   NaN\n",
       "dtype: float64"
      ]
     },
     "execution_count": 29,
     "metadata": {},
     "output_type": "execute_result"
    }
   ],
   "source": [
    "#Tener en cuenta los valores nulos\n",
    "print(t3)\n",
    "t3.mean(skipna=False)"
   ]
  },
  {
   "cell_type": "code",
   "execution_count": 32,
   "metadata": {},
   "outputs": [
    {
     "name": "stdout",
     "output_type": "stream",
     "text": [
      "   Edad  Peso  Altura\n",
      "0    40    58     115\n",
      "1    43    59     117\n",
      "2    41    60     120\n",
      "3    38    61     120\n",
      "4    36    62     126\n",
      "5    40    63     122\n",
      "            Edad      Peso    Altura\n",
      "Edad    1.000000 -0.529641 -0.708300\n",
      "Peso   -0.529641  1.000000  0.861444\n",
      "Altura -0.708300  0.861444  1.000000\n"
     ]
    }
   ],
   "source": [
    "#Relación entre variables : correlación y varianza\n",
    "\n",
    "datos=[[40,58,115],[43,59,117],[41,60,120],[38,61,120],[36,62,126],[40,63,122]]\n",
    "t5=pd.DataFrame(datos,columns=['Edad','Peso','Altura'])\n",
    "print(t5)\n",
    "\n",
    "correlacion = t5.corr()\n",
    "print(correlacion)"
   ]
  },
  {
   "cell_type": "code",
   "execution_count": 39,
   "metadata": {},
   "outputs": [
    {
     "data": {
      "image/png": "[encoded data removed]",
      "text/plain": [
       "<Figure size 400x300 with 2 Axes>"
      ]
     },
     "metadata": {},
     "output_type": "display_data"
    }
   ],
   "source": [
    "import matplotlib.pyplot as plt\n",
    "import seaborn as sns\n",
    "%matplotlib inline\n",
    "f,ax=plt.subplots(1,figsize=(4,3))\n",
    "sns.heatmap(correlacion,vmax=1,square=False,annot=True,fmt='.2f')\n",
    "ax.set_title('Matriz de correlación ‑ Mapa de calor');"
   ]
  },
  {
   "cell_type": "code",
   "execution_count": 45,
   "metadata": {},
   "outputs": [
    {
     "name": "stdout",
     "output_type": "stream",
     "text": [
      "            Edad  Peso  Altura\n",
      "Edad    5.866667  -2.4    -6.6\n",
      "Peso   -2.400000   3.5     6.2\n",
      "Altura -6.600000   6.2    14.8\n",
      "   Edad  Peso  Altura\n",
      "0    40    58     115\n",
      "1    43    59     117\n",
      "2    41    60     120\n",
      "3    38    61     120\n",
      "4    36    62     126\n",
      "5    40    63     122\n"
     ]
    },
    {
     "data": {
      "image/png": "[encoded data removed]",
      "text/plain": [
       "<Figure size 640x480 with 1 Axes>"
      ]
     },
     "metadata": {},
     "output_type": "display_data"
    }
   ],
   "source": [
    "print(t5.cov())\n",
    "print(t5)\n",
    "t5.plot(kind='scatter',x='Altura',y='Peso');\n",
    "plt.xlabel('Altura')\n",
    "plt.ylabel('Peso');"
   ]
  }
 ],
 "metadata": {
  "kernelspec": {
   "display_name": "Python 3.9.2 64-bit",
   "language": "python",
   "name": "python3"
  },
  "language_info": {
   "codemirror_mode": {
    "name": "ipython",
    "version": 3
   },
   "file_extension": ".py",
   "mimetype": "text/x-python",
   "name": "python",
   "nbconvert_exporter": "python",
   "pygments_lexer": "ipython3",
   "version": "3.9.2"
  },
  "orig_nbformat": 4,
  "vscode": {
   "interpreter": {
    "hash": "916dbcbb3f70747c44a77c7bcd40155683ae19c65e1c03b4aa3499c5328201f1"
   }
  }
 },
 "nbformat": 4,
 "nbformat_minor": 2
}
