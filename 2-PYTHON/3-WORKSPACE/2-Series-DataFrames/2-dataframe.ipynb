{
 "cells": [
  {
   "cell_type": "markdown",
   "metadata": {},
   "source": [
    "# Uso de Dataframe\n",
    "* Podemos usarlo cuando los datos están representados en:\n",
    "  * lista\n",
    "  * diccionario\n",
    "  * serie\n",
    "  * dataframe\n",
    "* datos en ficheros:\n",
    "  * read_csv\n",
    "  * read_excel\n",
    "  * read_table\n",
    "\n",
    "\n",
    "Datos con los que podemos jugar\n",
    "\n",
    "https://ec.europa.eu/eurostat/web/agriculture/data/main-tables\n"
   ]
  },
  {
   "cell_type": "code",
   "execution_count": 2,
   "metadata": {},
   "outputs": [],
   "source": [
    "##Librerias\n",
    "import numpy as np\n",
    "import pandas as pd\n",
    "import matplotlib.pyplot as plt\n",
    "%matplotlib inline"
   ]
  },
  {
   "cell_type": "code",
   "execution_count": 3,
   "metadata": {},
   "outputs": [
    {
     "name": "stdout",
     "output_type": "stream",
     "text": [
      "Primer index :  RangeIndex(start=0, stop=3, step=1)\n",
      "Segundo index :  Index(['Ciudades', 'Nacidos H'], dtype='object')\n",
      "[['Madrid' 100]\n",
      " ['Barcelona' 200]\n",
      " ['Alicante' 300]]\n",
      "    Ciudades  Nacidos H\n",
      "0     Madrid        100\n",
      "1  Barcelona        200\n",
      "2   Alicante        300\n"
     ]
    }
   ],
   "source": [
    "d = { 'Ciudades' : ['Madrid','Barcelona','Alicante'], 'Nacidos H' : [100,200,300]}\n",
    "tabla = pd.DataFrame(data = d)\n",
    "print(\"Primer index : \", tabla.index)\n",
    "print(\"Segundo index : \",tabla.columns)\n",
    "print(tabla.values)\n",
    "print(tabla)\n"
   ]
  },
  {
   "cell_type": "code",
   "execution_count": 4,
   "metadata": {},
   "outputs": [],
   "source": [
    "# Crear dataframe a partir de una serie"
   ]
  },
  {
   "cell_type": "code",
   "execution_count": 5,
   "metadata": {},
   "outputs": [
    {
     "name": "stdout",
     "output_type": "stream",
     "text": [
      "a    1\n",
      "b    2\n",
      "c    3\n",
      "d    4\n",
      "Name: valor, dtype: int64\n",
      "   valor\n",
      "a      1\n",
      "b      2\n",
      "c      3\n",
      "d      4\n",
      "            valor\n",
      "abecedario       \n",
      "a               1\n",
      "b               2\n",
      "c               3\n",
      "d               4\n",
      "Letras      valor\n",
      "abecedario       \n",
      "a               1\n",
      "b               2\n",
      "c               3\n",
      "d               4\n"
     ]
    }
   ],
   "source": [
    "s1 = pd.Series([1,2,3,4],index=['a','b','c','d'], name='valor')\n",
    "print(s1)\n",
    "t = pd.DataFrame(s1)\n",
    "print(t)\n",
    "#añadir más información al dataframe\n",
    "t.index.name = 'abecedario'\n",
    "print(t)\n",
    "t.columns.name = 'Letras'\n",
    "print(t)\n"
   ]
  },
  {
   "cell_type": "code",
   "execution_count": 6,
   "metadata": {},
   "outputs": [
    {
     "name": "stdout",
     "output_type": "stream",
     "text": [
      "<class 'pandas.core.frame.DataFrame'>\n",
      "Index: 5 entries, EE to FR\n",
      "Data columns (total 5 columns):\n",
      " #   Column  Non-Null Count  Dtype  \n",
      "---  ------  --------------  -----  \n",
      " 0   Desc    5 non-null      object \n",
      " 1   2004    5 non-null      float64\n",
      " 2   2005    5 non-null      float64\n",
      " 3   2006    5 non-null      float64\n",
      " 4   Tipo    5 non-null      object \n",
      "dtypes: float64(3), object(2)\n",
      "memory usage: 240.0+ bytes\n",
      "None\n",
      "       Desc    2004    2005    2006 Tipo\n",
      "EE  Estonia    8.40    7.70    6.70    A\n",
      "IE  Ireland  193.50  227.76  221.05    B\n",
      "EL   Greece    1.40    1.60    1.50    A\n",
      "ES    Spain   50.52   58.90   46.72    C\n",
      "FR   France  415.09  423.10  400.52    A\n"
     ]
    }
   ],
   "source": [
    "tabla3=pd.DataFrame(\n",
    "        data=[('Estonia',8.4,7.7,6.7,'A'),\n",
    "        ('Ireland',193.5,227.76,221.05,'B'),\n",
    "        ('Greece',1.4,1.6,1.5,'A'),\n",
    "        ('Spain',50.52,58.9,46.72,'C'),\n",
    "        ('France',415.09,423.1,400.52,'A')],\n",
    "        columns=['Desc','2004','2005','2006','Tipo'],\n",
    "        index=['EE','IE','EL','ES','FR'])\n",
    "print(tabla3.info())\n",
    "print(tabla3)\n"
   ]
  },
  {
   "cell_type": "code",
   "execution_count": 7,
   "metadata": {},
   "outputs": [
    {
     "data": {
      "image/png": "[encoded data removed]",
      "text/plain": [
       "<Figure size 900x300 with 1 Axes>"
      ]
     },
     "metadata": {},
     "output_type": "display_data"
    }
   ],
   "source": [
    "figura,ax1=plt.subplots(1,figsize=(9,3))\n",
    "tabla3.plot(ax=ax1,kind='bar',title='Producción de mantequilla')\n",
    "ax1.set_xlabel('Países de la UE')\n",
    "ax1.set_ylabel('Producción (x 1000 Toneladas)')\n",
    "#ax1.set_xticklabels(tabla3.Desc);\n",
    "ax1.set_xticklabels(tabla3.Desc);"
   ]
  },
  {
   "cell_type": "code",
   "execution_count": 8,
   "metadata": {},
   "outputs": [
    {
     "name": "stderr",
     "output_type": "stream",
     "text": [
      "/tmp/ipykernel_195714/1314763448.py:2: FutureWarning: The default value of numeric_only in DataFrame.mean is deprecated. In a future version, it will default to False. In addition, specifying 'numeric_only=None' is deprecated. Select only valid columns or specify the value of numeric_only to silence this warning.\n",
      "  tabla3.mean()\n",
      "/tmp/ipykernel_195714/1314763448.py:4: FutureWarning: Dropping of nuisance columns in DataFrame reductions (with 'numeric_only=None') is deprecated; in a future version this will raise TypeError.  Select only valid columns before calling the reduction.\n",
      "  tabla3.sum(axis=1)\n"
     ]
    },
    {
     "data": {
      "text/plain": [
       "Desc    EstoniaIrelandGreeceSpainFrance\n",
       "2004                             668.91\n",
       "2005                             719.06\n",
       "2006                             676.49\n",
       "Tipo                              ABACA\n",
       "dtype: object"
      ]
     },
     "execution_count": 8,
     "metadata": {},
     "output_type": "execute_result"
    }
   ],
   "source": [
    "#calcular media\n",
    "tabla3.mean()\n",
    "#suma en el eje Y\n",
    "tabla3.sum(axis=1)\n",
    "#suma en el eje x\n",
    "tabla3.sum(axis=0)"
   ]
  },
  {
   "cell_type": "code",
   "execution_count": 9,
   "metadata": {},
   "outputs": [
    {
     "data": {
      "text/html": [
       "<div>\n",
       "<style scoped>\n",
       "    .dataframe tbody tr th:only-of-type {\n",
       "        vertical-align: middle;\n",
       "    }\n",
       "\n",
       "    .dataframe tbody tr th {\n",
       "        vertical-align: top;\n",
       "    }\n",
       "\n",
       "    .dataframe thead th {\n",
       "        text-align: right;\n",
       "    }\n",
       "</style>\n",
       "<table border=\"1\" class=\"dataframe\">\n",
       "  <thead>\n",
       "    <tr style=\"text-align: right;\">\n",
       "      <th></th>\n",
       "      <th>EE</th>\n",
       "      <th>IE</th>\n",
       "      <th>EL</th>\n",
       "      <th>ES</th>\n",
       "      <th>FR</th>\n",
       "    </tr>\n",
       "  </thead>\n",
       "  <tbody>\n",
       "    <tr>\n",
       "      <th>Desc</th>\n",
       "      <td>Estonia</td>\n",
       "      <td>Ireland</td>\n",
       "      <td>Greece</td>\n",
       "      <td>Spain</td>\n",
       "      <td>France</td>\n",
       "    </tr>\n",
       "    <tr>\n",
       "      <th>2004</th>\n",
       "      <td>8.4</td>\n",
       "      <td>193.5</td>\n",
       "      <td>1.4</td>\n",
       "      <td>50.52</td>\n",
       "      <td>415.09</td>\n",
       "    </tr>\n",
       "    <tr>\n",
       "      <th>2005</th>\n",
       "      <td>7.7</td>\n",
       "      <td>227.76</td>\n",
       "      <td>1.6</td>\n",
       "      <td>58.9</td>\n",
       "      <td>423.1</td>\n",
       "    </tr>\n",
       "    <tr>\n",
       "      <th>2006</th>\n",
       "      <td>6.7</td>\n",
       "      <td>221.05</td>\n",
       "      <td>1.5</td>\n",
       "      <td>46.72</td>\n",
       "      <td>400.52</td>\n",
       "    </tr>\n",
       "    <tr>\n",
       "      <th>Tipo</th>\n",
       "      <td>A</td>\n",
       "      <td>B</td>\n",
       "      <td>A</td>\n",
       "      <td>C</td>\n",
       "      <td>A</td>\n",
       "    </tr>\n",
       "  </tbody>\n",
       "</table>\n",
       "</div>"
      ],
      "text/plain": [
       "           EE       IE      EL     ES      FR\n",
       "Desc  Estonia  Ireland  Greece  Spain  France\n",
       "2004      8.4    193.5     1.4  50.52  415.09\n",
       "2005      7.7   227.76     1.6   58.9   423.1\n",
       "2006      6.7   221.05     1.5  46.72  400.52\n",
       "Tipo        A        B       A      C       A"
      ]
     },
     "execution_count": 9,
     "metadata": {},
     "output_type": "execute_result"
    }
   ],
   "source": [
    "#transponer mi tabla  ( cambiar filas por columnas)\n",
    "\n",
    "tabla3.T"
   ]
  }
 ],
 "metadata": {
  "kernelspec": {
   "display_name": "Python 3.9.2 64-bit",
   "language": "python",
   "name": "python3"
  },
  "language_info": {
   "codemirror_mode": {
    "name": "ipython",
    "version": 3
   },
   "file_extension": ".py",
   "mimetype": "text/x-python",
   "name": "python",
   "nbconvert_exporter": "python",
   "pygments_lexer": "ipython3",
   "version": "3.9.2"
  },
  "orig_nbformat": 4,
  "vscode": {
   "interpreter": {
    "hash": "916dbcbb3f70747c44a77c7bcd40155683ae19c65e1c03b4aa3499c5328201f1"
   }
  }
 },
 "nbformat": 4,
 "nbformat_minor": 2
}
