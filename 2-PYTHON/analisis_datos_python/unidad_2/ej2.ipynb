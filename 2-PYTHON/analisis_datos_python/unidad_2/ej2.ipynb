{
 "cells": [
  {
   "cell_type": "markdown",
   "metadata": {},
   "source": [
    "<div id=\"navegacion\" prev=\"../Ejercicios_Tema_2/ej1.html\" \n",
    "                     next=\"\"></div>\n",
    "\n",
    "<div class=\"section-title\">Sección 2.9</div>"
   ]
  },
  {
   "cell_type": "markdown",
   "metadata": {},
   "source": [
    "#  Ejercicios "
   ]
  },
  {
   "cell_type": "markdown",
   "metadata": {},
   "source": [
    "##  Ejercicio 1"
   ]
  },
  {
   "cell_type": "markdown",
   "metadata": {},
   "source": [
    "Dada la lista L = [ 'a', 'b', 'c', 4, 5, 6, 7, 8, 9 ], escribe expresiones en Python que produzcan los siguientes resultados:\n",
    "\n",
    "1. El primer elemento de la lista.\n",
    "2. El último elemento de la lista (Sin conocer la longitud de la lista).\n",
    "3. La sublista con los dos últimos elementos. \n",
    "4. La sublista de los elementos que ocupan posiciones pares. \n",
    "4. La sublista de los elementos que ocupan posiciones impares. "
   ]
  },
  {
   "cell_type": "code",
   "execution_count": 6,
   "metadata": {
    "ExecuteTime": {
     "end_time": "2018-10-25T16:05:07.107351Z",
     "start_time": "2018-10-25T16:05:07.102366Z"
    }
   },
   "outputs": [
    {
     "data": {
      "text/plain": [
       "'a'"
      ]
     },
     "execution_count": 6,
     "metadata": {},
     "output_type": "execute_result"
    }
   ],
   "source": [
    "# Sol 1: 'a'\n",
    "L = ['a','b','c',4,5,6,7,8,9]\n",
    "#Conociendo el tamaño del la lista podemos llegar al primer dato de varias maneras\n",
    "L[0]\n",
    "len(L)\n",
    "L[-9]"
   ]
  },
  {
   "cell_type": "code",
   "execution_count": 15,
   "metadata": {},
   "outputs": [
    {
     "data": {
      "text/plain": [
       "9"
      ]
     },
     "execution_count": 15,
     "metadata": {},
     "output_type": "execute_result"
    }
   ],
   "source": [
    "# Sol 2: 9\n",
    "L[-1]\n",
    "\n"
   ]
  },
  {
   "cell_type": "code",
   "execution_count": 19,
   "metadata": {},
   "outputs": [
    {
     "data": {
      "text/plain": [
       "[8, 9]"
      ]
     },
     "execution_count": 19,
     "metadata": {},
     "output_type": "execute_result"
    }
   ],
   "source": [
    "# Sol 3: [8,9]\n",
    "#Sin conocer el el tamaño de la lista devuelvo los dos últimos elementos\n",
    "L[-2:]"
   ]
  },
  {
   "cell_type": "code",
   "execution_count": 21,
   "metadata": {},
   "outputs": [
    {
     "data": {
      "text/plain": [
       "['a', 'c', 5, 7, 9]"
      ]
     },
     "execution_count": 21,
     "metadata": {},
     "output_type": "execute_result"
    }
   ],
   "source": [
    "# Sol 4:  [ 'a',  'c', 5,  7,  9 ]\n",
    "\n",
    "#Posiciones pares\n",
    "L[::2]\n"
   ]
  },
  {
   "cell_type": "code",
   "execution_count": 38,
   "metadata": {
    "ExecuteTime": {
     "end_time": "2018-10-25T16:05:13.741616Z",
     "start_time": "2018-10-25T16:05:13.736631Z"
    }
   },
   "outputs": [
    {
     "name": "stdout",
     "output_type": "stream",
     "text": [
      "0   0\n",
      "1   1\n",
      "2   0\n",
      "3   1\n",
      "4   0\n",
      "5   1\n",
      "6   0\n",
      "7   1\n",
      "8   0\n",
      "['b', 4, 6, 8]\n"
     ]
    }
   ],
   "source": [
    "# Sol 5:  [ 'b', 4, 6, 8 ]\n",
    "\n",
    "#Posiciones impares\n",
    "\n",
    "#       0    1    2   3  4  5  6  7  8\n",
    "\n",
    "#L = [ 'a', 'b', 'c', 4, 5, 6, 7, 8, 9 ]\n",
    "\n",
    "l=[]\n",
    "\n",
    "for x in range(len(L)):\n",
    "    #print(x,\" \", x%2)\n",
    "    if (x%2) != 0 :\n",
    "        l.append(L[x])\n",
    "        \n",
    "print(l)"
   ]
  },
  {
   "cell_type": "markdown",
   "metadata": {},
   "source": [
    "## Ejercicio 2"
   ]
  },
  {
   "cell_type": "markdown",
   "metadata": {},
   "source": [
    "Dado una lista de importes, queremos calcular el % de IVA (por ejemplo 21%) de cada importe. Construye una función llamada `calcular_iva` que reciba como parámetros de entrada una lista de valores numéricos y el % de  IVA a aplicar (valor mayor que 0 y menor que 100). La función devuelve una nueva lista de valores numéricos donde cada valor es el resultado de calcular el % de IVA a los valores de la lista original.\n",
    "\n",
    "Puedes construir la lista resultado de la función mediante *definición por comprensión*.\n",
    "\n",
    "__Nota:__\n",
    "\n",
    "* `calcular_iva([100], 21)`  devuelve como resultado la lista `[21.0]`\n",
    "* `calcular_iva([100, 1000, 200, 150], 21)` devuelve como resultado la lista `[21.0, 210.0, 42.0, 31.5]`\n",
    "* `calcular_iva([100, 1000, 200, 150], 4)` devuelve como resultado la lista `[4.0, 40.0, 8.0, 6.0]`"
   ]
  },
  {
   "cell_type": "code",
   "execution_count": 47,
   "metadata": {
    "ExecuteTime": {
     "end_time": "2019-01-04T11:20:34.692386Z",
     "start_time": "2019-01-04T11:20:34.688417Z"
    }
   },
   "outputs": [
    {
     "name": "stdout",
     "output_type": "stream",
     "text": [
      "[21.0]\n",
      "[21.0, 210.0, 42.0, 31.5]\n",
      "[4.0, 40.0, 8.0, 6.0]\n"
     ]
    }
   ],
   "source": [
    "# Sol:\n",
    "def calcular_iva(list,iva):\n",
    "    l=[]\n",
    "    if iva > 0 and iva < 100:\n",
    "        for elem in range(len(list)):\n",
    "            l.append((list[elem] * iva)/100)\n",
    "\n",
    "    return l\n",
    "\n",
    "\n",
    "print(calcular_iva([100],21))\n",
    "print(calcular_iva([100,1000,200,150],21))\n",
    "print(calcular_iva([100,1000,200,150], 4))\n"
   ]
  },
  {
   "cell_type": "markdown",
   "metadata": {},
   "source": [
    "## Ejercicio 3\n",
    "\n",
    "Los primeros 5 términos de una sucesión son:\n",
    "\n",
    "```\n",
    "[3, 8, 13, 18, 23]\n",
    "```\n",
    "\n",
    "Define una función llamada `sucesion` que reciba un número entero positivo `n` como argumento y genere la lista de los `n` primeros términos de la sucesión. Resuelve el problema aplicando la fórmula $a_n = 3 + 5 * (n-1)$. \n",
    "\n",
    "Puedes construir la lista resultado de la función mediante *definición por comprensión*.\n",
    "\n",
    "__Nota:__\n",
    "\n",
    "* Genera primero los n primeros números comenzando por el 1 y utilizando la función __range__.\n",
    "\n",
    "\n"
   ]
  },
  {
   "cell_type": "code",
   "execution_count": 25,
   "metadata": {
    "ExecuteTime": {
     "end_time": "2019-01-04T11:24:31.646807Z",
     "start_time": "2019-01-04T11:24:31.643337Z"
    }
   },
   "outputs": [
    {
     "name": "stdout",
     "output_type": "stream",
     "text": [
      "[3, 8, 13, 18, 23]\n",
      "[3, 8, 13, 18, 23]\n"
     ]
    }
   ],
   "source": [
    "# Sol:\n",
    "\n",
    "# Primiera solucion sin utilizar definicion por comprensión\n",
    "def sucesion(n):\n",
    "    \n",
    "    l=[]\n",
    "    an = 0\n",
    "    if(n >= 0):\n",
    "        for x in range(n,6):\n",
    "            an = 3 + 5 * (x - 1)\n",
    "            l.append(an)\n",
    "            \n",
    "    return l\n",
    "    \n",
    "print(sucesion(1))\n",
    "\n",
    "\n",
    "#utilizando una definición por comprensión\n",
    "list = [3+5*(n-1) for n in range(1,6)]\n",
    "print(list)"
   ]
  },
  {
   "cell_type": "markdown",
   "metadata": {},
   "source": [
    "## Ejercicio 4\n",
    "\n",
    "Dado el diccionario de las ciudades más pobladas de Italia __ciudades__:\n",
    "\n",
    "d =  { 1: 'Roma', 2: 'Milán', 3:'Nápoles', 4:'Turín', 5:'Palermo' ,6: 'Génova',\n",
    "      7:'Bolonia', 8:'Florencia', 9:'Bari', 10:'Catania'}\n",
    "      \n",
    "y la lista __pob__ que contiene información de la cantidad de población en cada ciudad:\n",
    "\n",
    "pob =  [2718768, 1299633, 973132, 908263, 663173, 610887, 372256, 364710, 322511, 298957]\n",
    "\n",
    "Crea un nuevo diccionario donde cada elemento sea de la forma\n",
    "\n",
    "__i: [ciudad,poblacion]__\n",
    "\n",
    "Puedes construir el diccionario mediante *definición por comprensión*."
   ]
  },
  {
   "cell_type": "code",
   "execution_count": 35,
   "metadata": {
    "ExecuteTime": {
     "end_time": "2019-01-04T11:24:34.831338Z",
     "start_time": "2019-01-04T11:24:34.824393Z"
    }
   },
   "outputs": [
    {
     "name": "stdout",
     "output_type": "stream",
     "text": [
      "{'Roma': 2718768, 'Milán': 1299633, 'Nápoles': 973132, 'Turín': 908263, 'Palermo': 663173, 'Génova': 610887, 'Bolonia': 372256, 'Florencia': 364710, 'Bari': 322511, 'Catania': 298957}\n",
      "{'Roma': 2718768, 'Milán': 1299633, 'Nápoles': 973132, 'Turín': 908263, 'Palermo': 663173, 'Génova': 610887, 'Bolonia': 372256, 'Florencia': 364710, 'Bari': 322511, 'Catania': 298957}\n",
      "/bin/bash: line 1: conda: command not found\n"
     ]
    }
   ],
   "source": [
    "pob = [2718768, 1299633, 973132, 908263, 663173, 610887, 372256, 364710, \n",
    "       322511, 298957]\n",
    "d = { 1: 'Roma', 2: 'Milán', 3:'Nápoles', 4:'Turín', 5:'Palermo' ,\n",
    "     6: 'Génova',   \\\n",
    "      7:'Bolonia', 8:'Florencia', 9:'Bari', 10:'Catania'}\n",
    "\n",
    "# Sol\n",
    "\n",
    "#Primera opcion\n",
    "\n",
    "i = {}\n",
    "\n",
    "for x in range(len(pob)):\n",
    "      #print(d.get(x+1))\n",
    "      #print(pob[x])\n",
    "      i[d.get(x+1)] = pob[x]\n",
    "      \n",
    "       \n",
    "#Mostrar el diccionario i\n",
    "print(i)\n",
    "\n",
    "# Segunda opcion con zip\n",
    "\n",
    "list_keys = d.values()\n",
    "new_dic = dict(zip(list_keys,pob))\n",
    "print(new_dic)\n",
    "\n",
    "!conda list\n",
    "\n",
    "#!conda list\n",
    "\n",
    "#utilizando listas por comprension\n",
    "#dict_compresion = { k : v for k in list_keys v in pob}"
   ]
  },
  {
   "cell_type": "markdown",
   "metadata": {},
   "source": []
  },
  {
   "cell_type": "markdown",
   "metadata": {},
   "source": [
    "-------------------"
   ]
  }
 ],
 "metadata": {
  "anaconda-cloud": {},
  "kernelspec": {
   "display_name": "Python 3.9.2 64-bit",
   "language": "python",
   "name": "python3"
  },
  "language_info": {
   "codemirror_mode": {
    "name": "ipython",
    "version": 3
   },
   "file_extension": ".py",
   "mimetype": "text/x-python",
   "name": "python",
   "nbconvert_exporter": "python",
   "pygments_lexer": "ipython3",
   "version": "3.10.6"
  },
  "nbTranslate": {
   "displayLangs": [
    "en",
    "es"
   ],
   "hotkey": "alt-t",
   "langInMainMenu": true,
   "sourceLang": "es",
   "targetLang": "en",
   "useGoogleTranslate": true
  },
  "toc": {
   "nav_menu": {
    "height": "161px",
    "width": "252px"
   },
   "number_sections": true,
   "sideBar": true,
   "skip_h1_title": false,
   "title_cell": "Table of Contents",
   "title_sidebar": "Contents",
   "toc_cell": false,
   "toc_position": {},
   "toc_section_display": "block",
   "toc_window_display": false
  },
  "vscode": {
   "interpreter": {
    "hash": "916dbcbb3f70747c44a77c7bcd40155683ae19c65e1c03b4aa3499c5328201f1"
   }
  }
 },
 "nbformat": 4,
 "nbformat_minor": 1
}
